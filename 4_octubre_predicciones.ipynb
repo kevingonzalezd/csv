{
 "cells": [
  {
   "cell_type": "code",
   "execution_count": 1,
   "metadata": {},
   "outputs": [],
   "source": [
    "import pandas as pd\n",
    "import numpy as np\n",
    "from sklearn.linear_model import LinearRegression\n",
    "from sklearn.model_selection import train_test_split\n",
    "from sklearn.metrics import mean_squared_error, r2_score\n",
    "\n",
    "lectura=pd.read_excel('predicciones.xlsx', sheet_name='lectura')\n",
    "mate=pd.read_excel('predicciones.xlsx', sheet_name='matematicas')\n",
    "ciencia=pd.read_excel('predicciones.xlsx', sheet_name='ciencia')"
   ]
  },
  {
   "cell_type": "code",
   "execution_count": 20,
   "metadata": {},
   "outputs": [
    {
     "name": "stdout",
     "output_type": "stream",
     "text": [
      "Raíz de error cuadrático medio: 8.681185841041762\n",
      "\n",
      "Coeficiente de determinación (R^2): 0.8912197061104158\n",
      "\n",
      "Predicción Matemáticas 2022:  [567.84567548 548.75096737 526.8253534  519.08136235 524.84666269\n",
      " 562.68400586 506.16577808 512.8420572  525.81561373 518.49614755\n",
      " 499.03865821 494.70305966 513.15396118 507.8062557  504.88571441\n",
      " 506.88834693 478.42996013 496.73955761 420.02723982 411.62935354\n",
      " 399.59922351 385.24920969 411.48568223]\n",
      "\n",
      "Ecuación de la regresión lineal: y = -0.2956767191186425x_2012 + 0.16366994627328035x_2015+ 1.1124505336162134x_2018 + 11.974232210940556\n"
     ]
    }
   ],
   "source": [
    "df=mate\n",
    "\n",
    "X = df.loc[:, 2009:2015]  # Variables de entrenamiento\n",
    "y = df[2018]  # Variable objetivo (prueba)\n",
    "\n",
    "X_train, X_test, y_train, y_test = train_test_split(X, y, test_size=0.2, random_state=42)\n",
    "\n",
    "model = LinearRegression()\n",
    "model.fit(X_train, y_train)\n",
    "predictions = model.predict(X_test)\n",
    "\n",
    "# Calcular el error cuadrático medio en las predicciones\n",
    "mse = mean_squared_error(y_test, predictions)\n",
    "rmse = np.sqrt(mse)\n",
    "print(\"Raíz de error cuadrático medio:\", rmse)\n",
    "\n",
    "# Calcular el coeficiente de determinación (R^2)\n",
    "r2 = r2_score(y_test, predictions)\n",
    "print(\"\\nCoeficiente de determinación (R^2):\", r2)\n",
    "\n",
    "X_test2=df.loc[:, 2012:2018]\n",
    "predictions = model.predict(X_test2)\n",
    "print('\\nPredicción Matemáticas 2022: ',predictions)\n",
    "\n",
    "\n",
    "# Obtener la pendiente (coeficiente)\n",
    "coeficiente = model.coef_\n",
    "\n",
    "# Obtener el intercepto\n",
    "intercepto = model.intercept_\n",
    "\n",
    "# Imprimir la ecuación de la regresión lineal\n",
    "print(f'\\nEcuación de la regresión lineal: y = {coeficiente[0]}x_2012 + {coeficiente[1]}x_2015+ {coeficiente[2]}x_2018 + {intercepto}')\n"
   ]
  },
  {
   "cell_type": "code",
   "execution_count": 21,
   "metadata": {},
   "outputs": [
    {
     "name": "stdout",
     "output_type": "stream",
     "text": [
      "Raíz de error cuadrático medio: 10.574927267622007\n",
      "\n",
      "Coeficiente de determinación (R^2): 0.8301502328136461\n",
      "\n",
      "Predicción Matemáticas 2022:  [544.40500001 515.11278348 493.45244421 504.95816641 520.75043653\n",
      " 522.9012014  516.63915606 517.1260151  492.87472233 478.19772914\n",
      " 494.21084564 501.6500554  475.49540127 486.55592098 501.02756547\n",
      " 497.23150394 502.18721221 470.21369521 454.03676894 417.3587519\n",
      " 415.19288759 410.65570705 403.42777394]\n",
      "\n",
      "Ecuación de la regresión lineal: y = -0.2866418248553864x_2012 + 0.20021721706467854x_2015+ 1.0732221328245637x_2018 + 3.449707034928508\n"
     ]
    }
   ],
   "source": [
    "df=lectura\n",
    "\n",
    "X = df.loc[:, 2009:2015]  # Variables de entrenamiento\n",
    "y = df[2018]  # Variable objetivo (prueba)\n",
    "\n",
    "X_train, X_test, y_train, y_test = train_test_split(X, y, test_size=0.2, random_state=42)\n",
    "\n",
    "model = LinearRegression()\n",
    "model.fit(X_train, y_train)\n",
    "predictions = model.predict(X_test)\n",
    "\n",
    "# Calcular el error cuadrático medio en las predicciones\n",
    "mse = mean_squared_error(y_test, predictions)\n",
    "rmse = np.sqrt(mse)\n",
    "print(\"Raíz de error cuadrático medio:\", rmse)\n",
    "\n",
    "# Calcular el coeficiente de determinación (R^2)\n",
    "r2 = r2_score(y_test, predictions)\n",
    "print(\"\\nCoeficiente de determinación (R^2):\", r2)\n",
    "\n",
    "X_test2=df.loc[:, 2012:2018]\n",
    "predictions = model.predict(X_test2)\n",
    "print('\\nPredicción Matemáticas 2022: ',predictions)\n",
    "\n",
    "\n",
    "# Obtener la pendiente (coeficiente)\n",
    "coeficiente = model.coef_\n",
    "\n",
    "# Obtener el intercepto\n",
    "intercepto = model.intercept_\n",
    "\n",
    "# Imprimir la ecuación de la regresión lineal\n",
    "print(f'\\nEcuación de la regresión lineal: y = {coeficiente[0]}x_2012 + {coeficiente[1]}x_2015+ {coeficiente[2]}x_2018 + {intercepto}')\n"
   ]
  },
  {
   "cell_type": "code",
   "execution_count": 22,
   "metadata": {},
   "outputs": [
    {
     "name": "stdout",
     "output_type": "stream",
     "text": [
      "Raíz de error cuadrático medio: 8.731849790599048\n",
      "\n",
      "Coeficiente de determinación (R^2): 0.8860651512767713\n",
      "\n",
      "Predicción Matemáticas 2022:  [548.37657899 505.47348406 522.16924377 510.3266438  524.51826011\n",
      " 545.59150182 513.85725344 515.07434502 514.07053125 496.24617849\n",
      " 495.6297889  504.31763444 488.97531456 495.91817746 500.95244844\n",
      " 488.29641508 500.81404087 472.85221335 444.25830865 420.68631902\n",
      " 418.895301   404.63602428 413.87774952]\n",
      "\n",
      "Ecuación de la regresión lineal: y = -0.3081947955679395x_2012 + 0.15512705551280914x_2015+ 1.1203557908647754x_2018 + 14.625227714556502\n"
     ]
    }
   ],
   "source": [
    "df=ciencia\n",
    "\n",
    "X = df.loc[:, 2009:2015]  # Variables de entrenamiento\n",
    "y = df[2018]  # Variable objetivo (prueba)\n",
    "\n",
    "X_train, X_test, y_train, y_test = train_test_split(X, y, test_size=0.2, random_state=42)\n",
    "\n",
    "model = LinearRegression()\n",
    "model.fit(X_train, y_train)\n",
    "predictions = model.predict(X_test)\n",
    "\n",
    "# Calcular el error cuadrático medio en las predicciones\n",
    "mse = mean_squared_error(y_test, predictions)\n",
    "rmse = np.sqrt(mse)\n",
    "print(\"Raíz de error cuadrático medio:\", rmse)\n",
    "\n",
    "# Calcular el coeficiente de determinación (R^2)\n",
    "r2 = r2_score(y_test, predictions)\n",
    "print(\"\\nCoeficiente de determinación (R^2):\", r2)\n",
    "\n",
    "X_test2=df.loc[:, 2012:2018]\n",
    "predictions = model.predict(X_test2)\n",
    "print('\\nPredicción Matemáticas 2022: ',predictions)\n",
    "\n",
    "\n",
    "# Obtener la pendiente (coeficiente)\n",
    "coeficiente = model.coef_\n",
    "\n",
    "# Obtener el intercepto\n",
    "intercepto = model.intercept_\n",
    "\n",
    "# Imprimir la ecuación de la regresión lineal\n",
    "print(f'\\nEcuación de la regresión lineal: y = {coeficiente[0]}x_2012 + {coeficiente[1]}x_2015+ {coeficiente[2]}x_2018 + {intercepto}')\n"
   ]
  }
 ],
 "metadata": {
  "kernelspec": {
   "display_name": "Python 3",
   "language": "python",
   "name": "python3"
  },
  "language_info": {
   "codemirror_mode": {
    "name": "ipython",
    "version": 3
   },
   "file_extension": ".py",
   "mimetype": "text/x-python",
   "name": "python",
   "nbconvert_exporter": "python",
   "pygments_lexer": "ipython3",
   "version": "3.9.6"
  },
  "orig_nbformat": 4
 },
 "nbformat": 4,
 "nbformat_minor": 2
}

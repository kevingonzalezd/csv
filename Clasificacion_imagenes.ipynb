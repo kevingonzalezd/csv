{
  "nbformat": 4,
  "nbformat_minor": 0,
  "metadata": {
    "colab": {
      "provenance": []
    },
    "kernelspec": {
      "name": "python3",
      "display_name": "Python 3"
    },
    "language_info": {
      "name": "python"
    }
  },
  "cells": [
    {
      "cell_type": "markdown",
      "source": [
        "# Modelo CNN"
      ],
      "metadata": {
        "id": "IFCUfsaSGhby"
      }
    },
    {
      "cell_type": "code",
      "execution_count": 1,
      "metadata": {
        "colab": {
          "base_uri": "https://localhost:8080/"
        },
        "id": "ntX_MPQyAfNC",
        "outputId": "07cf6d2a-ff8e-4191-9baa-e456735921f2"
      },
      "outputs": [
        {
          "output_type": "stream",
          "name": "stdout",
          "text": [
            "Downloading data from https://storage.googleapis.com/tensorflow/tf-keras-datasets/train-labels-idx1-ubyte.gz\n",
            "29515/29515 [==============================] - 0s 0us/step\n",
            "Downloading data from https://storage.googleapis.com/tensorflow/tf-keras-datasets/train-images-idx3-ubyte.gz\n",
            "26421880/26421880 [==============================] - 0s 0us/step\n",
            "Downloading data from https://storage.googleapis.com/tensorflow/tf-keras-datasets/t10k-labels-idx1-ubyte.gz\n",
            "5148/5148 [==============================] - 0s 0us/step\n",
            "Downloading data from https://storage.googleapis.com/tensorflow/tf-keras-datasets/t10k-images-idx3-ubyte.gz\n",
            "4422102/4422102 [==============================] - 0s 0us/step\n",
            "Epoch 1/10\n",
            "1500/1500 [==============================] - 54s 35ms/step - loss: 0.5418 - accuracy: 0.8014 - val_loss: 0.3972 - val_accuracy: 0.8497\n",
            "Epoch 2/10\n",
            "1500/1500 [==============================] - 49s 33ms/step - loss: 0.3420 - accuracy: 0.8760 - val_loss: 0.3234 - val_accuracy: 0.8825\n",
            "Epoch 3/10\n",
            "1500/1500 [==============================] - 48s 32ms/step - loss: 0.2946 - accuracy: 0.8924 - val_loss: 0.3031 - val_accuracy: 0.8867\n",
            "Epoch 4/10\n",
            "1500/1500 [==============================] - 50s 33ms/step - loss: 0.2588 - accuracy: 0.9046 - val_loss: 0.2757 - val_accuracy: 0.8982\n",
            "Epoch 5/10\n",
            "1500/1500 [==============================] - 48s 32ms/step - loss: 0.2336 - accuracy: 0.9142 - val_loss: 0.2836 - val_accuracy: 0.8923\n",
            "Epoch 6/10\n",
            "1500/1500 [==============================] - 47s 31ms/step - loss: 0.2125 - accuracy: 0.9206 - val_loss: 0.2562 - val_accuracy: 0.9093\n",
            "Epoch 7/10\n",
            "1500/1500 [==============================] - 46s 30ms/step - loss: 0.1929 - accuracy: 0.9279 - val_loss: 0.2550 - val_accuracy: 0.9058\n",
            "Epoch 8/10\n",
            "1500/1500 [==============================] - 45s 30ms/step - loss: 0.1743 - accuracy: 0.9354 - val_loss: 0.2741 - val_accuracy: 0.9037\n",
            "Epoch 9/10\n",
            "1500/1500 [==============================] - 45s 30ms/step - loss: 0.1576 - accuracy: 0.9418 - val_loss: 0.2660 - val_accuracy: 0.9068\n",
            "Epoch 10/10\n",
            "1500/1500 [==============================] - 45s 30ms/step - loss: 0.1431 - accuracy: 0.9468 - val_loss: 0.3131 - val_accuracy: 0.9020\n",
            "313/313 [==============================] - 3s 10ms/step - loss: 0.3347 - accuracy: 0.8966\n",
            "\n",
            "Accuracy on test set: 0.8966000080108643\n"
          ]
        }
      ],
      "source": [
        "import tensorflow as tf\n",
        "from tensorflow.keras import layers, models\n",
        "from tensorflow.keras.datasets import fashion_mnist\n",
        "from sklearn.model_selection import train_test_split\n",
        "\n",
        "#cargar el conjunto de datos Fashion MNIST\n",
        "(x_train, y_train), (x_test, y_test) = fashion_mnist.load_data()\n",
        "\n",
        "# dividir el conjunto de entrenamiento en entrenamiento y validación\n",
        "x_train, x_val, y_train, y_val = train_test_split(x_train, y_train, test_size=0.2, random_state=42)\n",
        "\n",
        "# normalizar los datos\n",
        "x_train, x_val, x_test = x_train / 255.0, x_val / 255.0, x_test / 255.0\n",
        "\n",
        "# arquitectura CNN\n",
        "model = models.Sequential([\n",
        "    layers.Conv2D(32, (3, 3), activation='relu', input_shape=(28, 28, 1)),\n",
        "    layers.MaxPooling2D((2, 2)),\n",
        "    layers.Conv2D(64, (3, 3), activation='relu'),\n",
        "    layers.MaxPooling2D((2, 2)),\n",
        "    layers.Conv2D(64, (3, 3), activation='relu'),\n",
        "    layers.Flatten(),\n",
        "    layers.Dense(64, activation='relu'),\n",
        "    layers.Dense(10, activation='softmax')\n",
        "])\n",
        "\n",
        "model.compile(optimizer='adam',\n",
        "              loss='sparse_categorical_crossentropy',\n",
        "              metrics=['accuracy'])\n",
        "\n",
        "model.fit(x_train.reshape(-1, 28, 28, 1), y_train, epochs=10, validation_data=(x_val.reshape(-1, 28, 28, 1), y_val))\n",
        "\n",
        "test_loss, test_acc = model.evaluate(x_test.reshape(-1, 28, 28, 1), y_test)\n",
        "print(f'\\nAccuracy on test set: {test_acc}')\n"
      ]
    },
    {
      "cell_type": "code",
      "source": [
        "model.summary()"
      ],
      "metadata": {
        "colab": {
          "base_uri": "https://localhost:8080/"
        },
        "id": "wH0oquAdLcPl",
        "outputId": "8284fb3f-4900-4629-c55a-983de4c5cc42"
      },
      "execution_count": 3,
      "outputs": [
        {
          "output_type": "stream",
          "name": "stdout",
          "text": [
            "Model: \"sequential\"\n",
            "_________________________________________________________________\n",
            " Layer (type)                Output Shape              Param #   \n",
            "=================================================================\n",
            " conv2d (Conv2D)             (None, 26, 26, 32)        320       \n",
            "                                                                 \n",
            " max_pooling2d (MaxPooling2  (None, 13, 13, 32)        0         \n",
            " D)                                                              \n",
            "                                                                 \n",
            " conv2d_1 (Conv2D)           (None, 11, 11, 64)        18496     \n",
            "                                                                 \n",
            " max_pooling2d_1 (MaxPoolin  (None, 5, 5, 64)          0         \n",
            " g2D)                                                            \n",
            "                                                                 \n",
            " conv2d_2 (Conv2D)           (None, 3, 3, 64)          36928     \n",
            "                                                                 \n",
            " flatten (Flatten)           (None, 576)               0         \n",
            "                                                                 \n",
            " dense (Dense)               (None, 64)                36928     \n",
            "                                                                 \n",
            " dense_1 (Dense)             (None, 10)                650       \n",
            "                                                                 \n",
            "=================================================================\n",
            "Total params: 93322 (364.54 KB)\n",
            "Trainable params: 93322 (364.54 KB)\n",
            "Non-trainable params: 0 (0.00 Byte)\n",
            "_________________________________________________________________\n"
          ]
        }
      ]
    },
    {
      "cell_type": "markdown",
      "source": [
        "# Vision Transformer - ViT"
      ],
      "metadata": {
        "id": "O-LJOiTUGrAB"
      }
    },
    {
      "cell_type": "code",
      "source": [
        "(x_train, y_train), (x_test, y_test) = fashion_mnist.load_data()\n",
        "x_train, x_val, y_train, y_val = train_test_split(x_train, y_train, test_size=0.2, random_state=42)\n",
        "\n",
        "# normalizar los datos de píxeles al rango [0, 1]\n",
        "x_train, x_val, x_test = x_train / 255.0, x_val / 255.0, x_test / 255.0\n",
        "\n",
        "#agregar una dimensión adicional para representar los canales de color (en este caso, 1 canal para escala de grises)\n",
        "x_train = x_train[..., tf.newaxis]\n",
        "x_val = x_val[..., tf.newaxis]\n",
        "x_test = x_test[..., tf.newaxis]\n",
        "\n",
        "#arquitectura de Transformer (Vision Transformer - ViT)\n",
        "def create_vit_model():\n",
        "    inputs = layers.Input(shape=(28 * 28,))  # entrada de 2 dim\n",
        "    x = layers.Dense(256, activation='tanh')(inputs)\n",
        "    x = layers.Reshape(target_shape=(16, 16))(x)  # reducir dim para simular una secuencia 2D\n",
        "    attention_output = layers.MultiHeadAttention(num_heads=8, key_dim=16, dropout=0.1)(x, x)  # atención\n",
        "    x = layers.Add()([x, attention_output])  # la salida de atención\n",
        "    x = layers.GlobalAveragePooling1D()(x)\n",
        "    x = layers.Dense(128, activation='relu')(x)\n",
        "    outputs = layers.Dense(10, activation='softmax')(x)\n",
        "\n",
        "    model = models.Model(inputs=inputs, outputs=outputs)\n",
        "    return model\n",
        "\n",
        "\n",
        "vit_model = create_vit_model()\n",
        "vit_model.compile(optimizer='adam',\n",
        "                  loss='sparse_categorical_crossentropy',\n",
        "                  metrics=['accuracy'])\n",
        "\n",
        "vit_model.fit(x_train.reshape(-1, 28*28), y_train, batch_size=128 ,epochs=28, validation_data=(x_val.reshape(-1, 28*28), y_val))\n",
        "\n",
        "\n",
        "test_loss, test_acc = vit_model.evaluate(x_test.reshape(-1, 28*28), y_test)\n",
        "print(f'\\nAccuracy: {test_acc}')\n"
      ],
      "metadata": {
        "colab": {
          "base_uri": "https://localhost:8080/"
        },
        "id": "Wv30DTiTDpBU",
        "outputId": "4186f3e3-ed44-4a40-f63d-3de88f302059"
      },
      "execution_count": null,
      "outputs": [
        {
          "output_type": "stream",
          "name": "stdout",
          "text": [
            "Epoch 1/28\n",
            "375/375 [==============================] - 13s 30ms/step - loss: 0.6568 - accuracy: 0.7678 - val_loss: 0.4528 - val_accuracy: 0.8341\n",
            "Epoch 2/28\n",
            "375/375 [==============================] - 12s 32ms/step - loss: 0.3969 - accuracy: 0.8560 - val_loss: 0.3839 - val_accuracy: 0.8611\n",
            "Epoch 3/28\n",
            "375/375 [==============================] - 12s 33ms/step - loss: 0.3513 - accuracy: 0.8713 - val_loss: 0.3517 - val_accuracy: 0.8720\n",
            "Epoch 4/28\n",
            "375/375 [==============================] - 12s 33ms/step - loss: 0.3215 - accuracy: 0.8826 - val_loss: 0.3518 - val_accuracy: 0.8716\n",
            "Epoch 5/28\n",
            "375/375 [==============================] - 13s 33ms/step - loss: 0.3002 - accuracy: 0.8899 - val_loss: 0.3354 - val_accuracy: 0.8790\n",
            "Epoch 6/28\n",
            "375/375 [==============================] - 12s 32ms/step - loss: 0.2875 - accuracy: 0.8937 - val_loss: 0.3180 - val_accuracy: 0.8844\n",
            "Epoch 7/28\n",
            "375/375 [==============================] - 12s 33ms/step - loss: 0.2698 - accuracy: 0.8994 - val_loss: 0.3422 - val_accuracy: 0.8770\n",
            "Epoch 8/28\n",
            "375/375 [==============================] - 11s 29ms/step - loss: 0.2578 - accuracy: 0.9029 - val_loss: 0.3171 - val_accuracy: 0.8881\n",
            "Epoch 9/28\n",
            "375/375 [==============================] - 12s 32ms/step - loss: 0.2444 - accuracy: 0.9096 - val_loss: 0.3250 - val_accuracy: 0.8833\n",
            "Epoch 10/28\n",
            "375/375 [==============================] - 12s 32ms/step - loss: 0.2398 - accuracy: 0.9107 - val_loss: 0.3150 - val_accuracy: 0.8906\n",
            "Epoch 11/28\n",
            "375/375 [==============================] - 12s 33ms/step - loss: 0.2311 - accuracy: 0.9136 - val_loss: 0.3116 - val_accuracy: 0.8854\n",
            "Epoch 12/28\n",
            "375/375 [==============================] - 13s 34ms/step - loss: 0.2187 - accuracy: 0.9180 - val_loss: 0.3128 - val_accuracy: 0.8902\n",
            "Epoch 13/28\n",
            "375/375 [==============================] - 12s 32ms/step - loss: 0.2118 - accuracy: 0.9209 - val_loss: 0.3162 - val_accuracy: 0.8911\n",
            "Epoch 14/28\n",
            "375/375 [==============================] - 12s 32ms/step - loss: 0.2025 - accuracy: 0.9235 - val_loss: 0.3235 - val_accuracy: 0.8890\n",
            "Epoch 15/28\n",
            "375/375 [==============================] - 11s 29ms/step - loss: 0.1977 - accuracy: 0.9275 - val_loss: 0.3411 - val_accuracy: 0.8876\n",
            "Epoch 16/28\n",
            "375/375 [==============================] - 12s 31ms/step - loss: 0.1898 - accuracy: 0.9286 - val_loss: 0.3279 - val_accuracy: 0.8873\n",
            "Epoch 17/28\n",
            "375/375 [==============================] - 13s 34ms/step - loss: 0.1846 - accuracy: 0.9318 - val_loss: 0.3530 - val_accuracy: 0.8822\n",
            "Epoch 18/28\n",
            "375/375 [==============================] - 12s 33ms/step - loss: 0.1794 - accuracy: 0.9326 - val_loss: 0.3644 - val_accuracy: 0.8819\n",
            "Epoch 19/28\n",
            "375/375 [==============================] - 12s 32ms/step - loss: 0.1734 - accuracy: 0.9356 - val_loss: 0.3357 - val_accuracy: 0.8903\n",
            "Epoch 20/28\n",
            "375/375 [==============================] - 13s 34ms/step - loss: 0.1697 - accuracy: 0.9362 - val_loss: 0.3382 - val_accuracy: 0.8879\n",
            "Epoch 21/28\n",
            "375/375 [==============================] - 12s 33ms/step - loss: 0.1619 - accuracy: 0.9396 - val_loss: 0.3520 - val_accuracy: 0.8891\n",
            "Epoch 22/28\n",
            "375/375 [==============================] - 11s 29ms/step - loss: 0.1585 - accuracy: 0.9415 - val_loss: 0.3456 - val_accuracy: 0.8914\n",
            "Epoch 23/28\n",
            "375/375 [==============================] - 13s 33ms/step - loss: 0.1511 - accuracy: 0.9442 - val_loss: 0.3584 - val_accuracy: 0.8876\n",
            "Epoch 24/28\n",
            "375/375 [==============================] - 13s 34ms/step - loss: 0.1532 - accuracy: 0.9429 - val_loss: 0.3553 - val_accuracy: 0.8891\n",
            "Epoch 25/28\n",
            "375/375 [==============================] - 12s 33ms/step - loss: 0.1455 - accuracy: 0.9472 - val_loss: 0.3843 - val_accuracy: 0.8815\n",
            "Epoch 26/28\n",
            "375/375 [==============================] - 13s 35ms/step - loss: 0.1442 - accuracy: 0.9462 - val_loss: 0.3762 - val_accuracy: 0.8892\n",
            "Epoch 27/28\n",
            "375/375 [==============================] - 13s 34ms/step - loss: 0.1382 - accuracy: 0.9485 - val_loss: 0.3873 - val_accuracy: 0.8883\n",
            "Epoch 28/28\n",
            "375/375 [==============================] - 12s 33ms/step - loss: 0.1321 - accuracy: 0.9513 - val_loss: 0.3735 - val_accuracy: 0.8914\n",
            "313/313 [==============================] - 2s 5ms/step - loss: 0.4065 - accuracy: 0.8866\n",
            "\n",
            "Accuracy on test set: 0.8866000175476074\n"
          ]
        }
      ]
    },
    {
      "cell_type": "code",
      "source": [
        "vit_model.summary()"
      ],
      "metadata": {
        "id": "gX-dA43YIBUe",
        "outputId": "1bde92b8-6a92-42eb-b236-66f65d5665f5",
        "colab": {
          "base_uri": "https://localhost:8080/"
        }
      },
      "execution_count": null,
      "outputs": [
        {
          "output_type": "stream",
          "name": "stdout",
          "text": [
            "Model: \"model_4\"\n",
            "__________________________________________________________________________________________________\n",
            " Layer (type)                Output Shape                 Param #   Connected to                  \n",
            "==================================================================================================\n",
            " input_5 (InputLayer)        [(None, 784)]                0         []                            \n",
            "                                                                                                  \n",
            " dense_23 (Dense)            (None, 256)                  200960    ['input_5[0][0]']             \n",
            "                                                                                                  \n",
            " reshape_10 (Reshape)        (None, 16, 16)               0         ['dense_23[0][0]']            \n",
            "                                                                                                  \n",
            " multi_head_attention_7 (Mu  (None, 16, 16)               8592      ['reshape_10[0][0]',          \n",
            " ltiHeadAttention)                                                   'reshape_10[0][0]']          \n",
            "                                                                                                  \n",
            " add_4 (Add)                 (None, 16, 16)               0         ['reshape_10[0][0]',          \n",
            "                                                                     'multi_head_attention_7[0][0]\n",
            "                                                                    ']                            \n",
            "                                                                                                  \n",
            " global_average_pooling1d_7  (None, 16)                   0         ['add_4[0][0]']               \n",
            "  (GlobalAveragePooling1D)                                                                        \n",
            "                                                                                                  \n",
            " dense_24 (Dense)            (None, 128)                  2176      ['global_average_pooling1d_7[0\n",
            "                                                                    ][0]']                        \n",
            "                                                                                                  \n",
            " dense_25 (Dense)            (None, 10)                   1290      ['dense_24[0][0]']            \n",
            "                                                                                                  \n",
            "==================================================================================================\n",
            "Total params: 213018 (832.10 KB)\n",
            "Trainable params: 213018 (832.10 KB)\n",
            "Non-trainable params: 0 (0.00 Byte)\n",
            "__________________________________________________________________________________________________\n"
          ]
        }
      ]
    },
    {
      "cell_type": "code",
      "source": [
        "import matplotlib.pyplot as plt\n",
        "import numpy as np\n",
        "\n",
        "predictions = vit_model.predict(x_test.reshape(-1, 28*28))\n",
        "\n",
        "# Elegir aleatoriamente imágenes y sus etiquetas reales y predicciones\n",
        "num_samples = 8\n",
        "random_indices = np.random.choice(len(x_test), num_samples, replace=False)\n",
        "\n",
        "plt.figure(figsize=(30, 3))\n",
        "for i, idx in enumerate(random_indices, 1):\n",
        "    plt.subplot(1, num_samples, i)\n",
        "    plt.imshow(x_test[idx, ..., 0], cmap='gray')\n",
        "    plt.title(f'Real: {y_test[idx]}, Predicción: {np.argmax(predictions[idx])}')\n",
        "    plt.axis('off')\n",
        "\n",
        "plt.show()"
      ],
      "metadata": {
        "colab": {
          "base_uri": "https://localhost:8080/",
          "height": 217
        },
        "id": "AdoOsoFPFrYp",
        "outputId": "a945578a-7234-4e30-c506-de0d5b5ba754"
      },
      "execution_count": null,
      "outputs": [
        {
          "output_type": "stream",
          "name": "stdout",
          "text": [
            "313/313 [==============================] - 2s 6ms/step\n"
          ]
        },
        {
          "output_type": "display_data",
          "data": {
            "text/plain": [
              "<Figure size 3000x300 with 8 Axes>"
            ],
            "image/png": "[encoded data removed]"
          },
          "metadata": {}
        }
      ]
    }
  ]
}